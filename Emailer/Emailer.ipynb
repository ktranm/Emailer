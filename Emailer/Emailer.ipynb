{
 "cells": [
  {
   "cell_type": "code",
   "execution_count": 1,
   "metadata": {},
   "outputs": [],
   "source": [
    "import sys\n",
    "import smtplib\n",
    "import json"
   ]
  },
  {
   "cell_type": "code",
   "execution_count": 2,
   "metadata": {},
   "outputs": [],
   "source": [
    "def send_email(senderEmail,senderPassword, recipients, subject, body):\n",
    "    '''\n",
    "        recipients: a list\n",
    "        \n",
    "        Return True if email sent successfully \n",
    "    '''\n",
    "    \n",
    "    FROM = senderEmail\n",
    "    TO = recipients\n",
    "    SUBJECT = subject\n",
    "    TEXT = body\n",
    "    message = \"\"\"From: %s\\nTo: %s\\nSubject: %s\\n\\n%s\n",
    "    \"\"\" % (FROM, \", \".join(TO), SUBJECT, TEXT)\n",
    "    try:\n",
    "        server = smtplib.SMTP(\"smtp.gmail.com\", 587)\n",
    "        server.ehlo()\n",
    "        server.starttls()\n",
    "        server.login(senderEmail, senderPassword)\n",
    "        server.sendmail(FROM, TO, message)\n",
    "        server.close()\n",
    "        print('Successfully sent the email')\n",
    "        return True\n",
    "    except Exception as e:\n",
    "        print(\"Failed to send email\",e)\n",
    "        return False"
   ]
  },
  {
   "cell_type": "code",
   "execution_count": 3,
   "metadata": {},
   "outputs": [],
   "source": [
    "def send_email_from_input(inputFilePath): \n",
    "    '''\n",
    "        input file should have format as specified in input.txt\n",
    "    '''\n",
    "    with open(inputFilePath, 'rb') as fp:\n",
    "        data = json.load(fp)\n",
    "        return send_email(data['sendersEmail'],\n",
    "                          data['sendersPassword'],\n",
    "                          data['recipients'],\n",
    "                          data['emailSubject'], \n",
    "                          data['emailBody'])"
   ]
  },
  {
   "cell_type": "code",
   "execution_count": 4,
   "metadata": {},
   "outputs": [],
   "source": [
    "def send_birth_email(sendersEmail, sendersPassword, recipients, childName, birthDate, birthTime, weight, height):\n",
    "    emailText = \"\"\"Dear Family & Friends,\\nWell look who decided to drop by . . .%s. Born %s, at %s. %s | %s.\"\"\"%(childName,birthDate,birthTime,weight,height)\n",
    "    emailSubject = \"Birth Announcement\"\n",
    "    return send_email(sendersEmail,sendersPassword,recipients,emailSubject,emailText)"
   ]
  },
  {
   "cell_type": "code",
   "execution_count": 5,
   "metadata": {},
   "outputs": [],
   "source": [
    "sendersEmail = \"sendersEmailAddress\"\n",
    "sendersPassword = \"sendersPassword\"\n",
    "recipients = [\"user_name1@gmail.com\",\"user_name2@gmail.com\",\"user_name3@gmail.com\"]\n",
    "childName = \"Emma Smith\"\n",
    "date = \"January 15, 2016\"\n",
    "time = \"11:00 AM\"\n",
    "weight = \"8 pounds, 7 ounce\"\n",
    "height = \"11 inches\""
   ]
  },
  {
   "cell_type": "code",
   "execution_count": 6,
   "metadata": {},
   "outputs": [
    {
     "name": "stdout",
     "output_type": "stream",
     "text": [
      "Successfully sent the email\n"
     ]
    },
    {
     "data": {
      "text/plain": [
       "True"
      ]
     },
     "execution_count": 6,
     "metadata": {},
     "output_type": "execute_result"
    }
   ],
   "source": [
    "send_birth_email(sendersEmail,sendersPassword,recipients,childName,date,time,weight,height)"
   ]
  },
  {
   "cell_type": "code",
   "execution_count": null,
   "metadata": {},
   "outputs": [],
   "source": []
  }
 ],
 "metadata": {
  "kernelspec": {
   "display_name": "Python 3",
   "language": "python",
   "name": "python3"
  },
  "language_info": {
   "codemirror_mode": {
    "name": "ipython",
    "version": 3
   },
   "file_extension": ".py",
   "mimetype": "text/x-python",
   "name": "python",
   "nbconvert_exporter": "python",
   "pygments_lexer": "ipython3",
   "version": "3.6.4"
  }
 },
 "nbformat": 4,
 "nbformat_minor": 2
}
