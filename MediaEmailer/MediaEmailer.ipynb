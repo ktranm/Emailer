{
 "cells": [
  {
   "cell_type": "code",
   "execution_count": 45,
   "metadata": {},
   "outputs": [],
   "source": [
    "import os\n",
    "from os.path import basename\n",
    "from os.path import basename\n",
    "from email.mime.text import MIMEText\n",
    "from email.mime.application import MIMEApplication\n",
    "from email.mime.base import MIMEBase\n",
    "from email.mime.multipart import MIMEMultipart\n",
    "from email import encoders\n",
    "import smtplib"
   ]
  },
  {
   "cell_type": "code",
   "execution_count": 47,
   "metadata": {},
   "outputs": [],
   "source": [
    "#Directory to put attachments to be sent in email\n",
    "attachmentDir = \"Attachments\""
   ]
  },
  {
   "cell_type": "code",
   "execution_count": 48,
   "metadata": {},
   "outputs": [],
   "source": [
    "def send_email_with_attachments(senderEmail,senderPassword, recipients, subject, text, files=[]):\n",
    "    FROM = senderEmail\n",
    "    TO = recipients\n",
    "    \n",
    "    msg = MIMEMultipart()\n",
    "    msg['From'] = senderEmail\n",
    "    msg['To'] = \", \".join(recipients)\n",
    "    msg['Subject'] = subject\n",
    "\n",
    "    msg.attach(MIMEText(text))\n",
    "\n",
    "    for f in files:\n",
    "        part = MIMEBase('application', \"octet-stream\")\n",
    "        with open(f, 'rb') as file:\n",
    "            part.set_payload(file.read())\n",
    "        encoders.encode_base64(part)\n",
    "        part.add_header('Content-Disposition',\n",
    "                        'attachment; filename=\"{}\"'.format(basename(f)))\n",
    "        msg.attach(part)\n",
    "\n",
    "    try:\n",
    "        server = smtplib.SMTP(\"smtp.gmail.com\", 587)\n",
    "        server.ehlo()\n",
    "        server.starttls()\n",
    "        server.login(senderEmail, senderPassword)\n",
    "        server.sendmail(FROM, TO, msg.as_string())\n",
    "        server.close()\n",
    "        print('Successfully sent the email')\n",
    "        return True\n",
    "    except Exception as e:\n",
    "        print(\"Failed to send email\",e)\n",
    "        return False"
   ]
  },
  {
   "cell_type": "code",
   "execution_count": 49,
   "metadata": {},
   "outputs": [],
   "source": [
    "def send_birth_email_with_attachments(sendersEmail, sendersPassword, recipients, childName, birthDate, birthTime, weight, height):\n",
    "    '''\n",
    "        :sends birth email with child details and take attachments from Attachments folder\n",
    "        :put attachments to be sent in Attachment folder\n",
    "        :return True if sent successfully\n",
    "    '''\n",
    "    emailSubject = \"Birth Announcement\"\n",
    "    emailText = \"\"\"Dear Family & Friends,\\nWell look who decided to drop by . . .%s. Born %s, at %s. %s | %s.\"\"\"%(childName,birthDate,birthTime,weight,height)\n",
    "    \n",
    "    return send_email_with_attachments(sendersEmail,\n",
    "                                       sendersPassword,\n",
    "                                       recipients,\n",
    "                                       emailSubject,\n",
    "                                       emailText,\n",
    "                                       [os.path.join(attachmentDir, f) for f  in os.listdir(attachmentDir)])"
   ]
  },
  {
   "cell_type": "code",
   "execution_count": 50,
   "metadata": {},
   "outputs": [],
   "source": [
    "#helper method to clear Attachments directory \n",
    "def clear_attachments_directory():\n",
    "    import glob\n",
    "    files = glob.glob(os.path.join(attachmentDir,\"*\"))\n",
    "    for f in files:\n",
    "        os.remove(f)"
   ]
  },
  {
   "cell_type": "code",
   "execution_count": 60,
   "metadata": {},
   "outputs": [],
   "source": [
    "sendersEmail = \"sendersEmail\"\n",
    "sendersPassword = \"sendersPassword\"\n",
    "recipients = [\"user_name1@gmail.com\",\"user_name2@gmail.com\",\"user_name3@gmail.com\"]\n",
    "childName = \"Emma Smith\"\n",
    "date = \"January 15, 2016\"\n",
    "time = \"11:00 AM\"\n",
    "weight = \"8 pounds, 7 ounce\"\n",
    "height = \"11 inches\""
   ]
  },
  {
   "cell_type": "code",
   "execution_count": 62,
   "metadata": {},
   "outputs": [
    {
     "name": "stdout",
     "output_type": "stream",
     "text": [
      "Successfully sent the email\n"
     ]
    },
    {
     "data": {
      "text/plain": [
       "True"
      ]
     },
     "execution_count": 62,
     "metadata": {},
     "output_type": "execute_result"
    }
   ],
   "source": [
    "send_birth_email_with_attachments(sendersEmail,sendersPassword,recipients,childName,date,time,weight,height)"
   ]
  },
  {
   "cell_type": "code",
   "execution_count": null,
   "metadata": {},
   "outputs": [],
   "source": []
  }
 ],
 "metadata": {
  "kernelspec": {
   "display_name": "Python 3",
   "language": "python",
   "name": "python3"
  },
  "language_info": {
   "codemirror_mode": {
    "name": "ipython",
    "version": 3
   },
   "file_extension": ".py",
   "mimetype": "text/x-python",
   "name": "python",
   "nbconvert_exporter": "python",
   "pygments_lexer": "ipython3",
   "version": "3.6.4"
  }
 },
 "nbformat": 4,
 "nbformat_minor": 2
}
