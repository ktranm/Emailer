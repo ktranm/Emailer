{
 "cells": [
  {
   "cell_type": "markdown",
   "metadata": {},
   "source": [
    "## Using MediaEmailer Module"
   ]
  },
  {
   "cell_type": "markdown",
   "metadata": {},
   "source": [
    "#### 1.First create an folder named Attachment where you are using the script Insert Required Attachments to be sent in Attachments folder "
   ]
  },
  {
   "cell_type": "markdown",
   "metadata": {},
   "source": [
    "#### 2.Import MediaEmailer "
   ]
  },
  {
   "cell_type": "code",
   "execution_count": 17,
   "metadata": {},
   "outputs": [],
   "source": [
    "from MediaEmailer import MediaEmailer"
   ]
  },
  {
   "cell_type": "markdown",
   "metadata": {},
   "source": [
    "#### 3. Create email details"
   ]
  },
  {
   "cell_type": "code",
   "execution_count": 18,
   "metadata": {},
   "outputs": [],
   "source": [
    "#enter user's gmail account name\n",
    "sendersEmail = \"user_name1@gmail.com\"\n",
    "\n",
    "#enter user's gmail password\n",
    "sendersPassword = \"sendersEmailPassword\"\n",
    "\n",
    "#enter in recipients' email address\n",
    "recipients = [\"user_name1@gmail.com\",\"user_name2@gmail.com\",\"user_name3@gmail.com\"]\n",
    "\n",
    "#enter in baby's status\n",
    "childName = \"Emma Smith\"\n",
    "date = \"January 15, 2016\"\n",
    "time = \"11:00 AM\"\n",
    "weight = \"8 pounds, 7 ounce\"\n",
    "height = \"11 inches\""
   ]
  },
  {
   "cell_type": "markdown",
   "metadata": {},
   "source": [
    "#### 4. Use MediaEmailer.send_birth_email_with_attachments function\n"
   ]
  },
  {
   "cell_type": "code",
   "execution_count": 20,
   "metadata": {},
   "outputs": [
    {
     "name": "stdout",
     "output_type": "stream",
     "text": [
      "Successfully sent the email\n"
     ]
    },
    {
     "data": {
      "text/plain": [
       "True"
      ]
     },
     "execution_count": 20,
     "metadata": {},
     "output_type": "execute_result"
    }
   ],
   "source": [
    "MediaEmailer.send_birth_email_with_attachments(sendersEmail,sendersPassword,recipients,childName,date,time,weight,height)"
   ]
  },
  {
   "cell_type": "code",
   "execution_count": null,
   "metadata": {},
   "outputs": [],
   "source": []
  }
 ],
 "metadata": {
  "kernelspec": {
   "display_name": "Python 3",
   "language": "python",
   "name": "python3"
  },
  "language_info": {
   "codemirror_mode": {
    "name": "ipython",
    "version": 3
   },
   "file_extension": ".py",
   "mimetype": "text/x-python",
   "name": "python",
   "nbconvert_exporter": "python",
   "pygments_lexer": "ipython3",
   "version": "3.6.4"
  }
 },
 "nbformat": 4,
 "nbformat_minor": 2
}
